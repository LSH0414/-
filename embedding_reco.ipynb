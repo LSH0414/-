{
 "cells": [
  {
   "cell_type": "code",
   "execution_count": null,
   "metadata": {},
   "outputs": [],
   "source": [
    "#!pip install chromadb sentence-transformers"
   ]
  },
  {
   "cell_type": "code",
   "execution_count": 1057,
   "metadata": {},
   "outputs": [],
   "source": [
    "import pandas as pd\n",
    "import matplotlib.pyplot as plt\n",
    "import torch"
   ]
  },
  {
   "cell_type": "code",
   "execution_count": 1058,
   "metadata": {},
   "outputs": [],
   "source": [
    "article_info = pd.read_csv('data/article_info.csv')\n",
    "view_log = pd.read_csv('data/view_log.csv')"
   ]
  },
  {
   "cell_type": "code",
   "execution_count": 1060,
   "metadata": {},
   "outputs": [],
   "source": [
    "from  langchain.schema import Document\n",
    "from langchain_community.vectorstores import Chroma\n",
    "from langchain_text_splitters import RecursiveCharacterTextSplitter\n",
    "from langchain_community.embeddings.huggingface import HuggingFaceEmbeddings\n",
    "\n"
   ]
  },
  {
   "cell_type": "code",
   "execution_count": 1061,
   "metadata": {},
   "outputs": [],
   "source": [
    "def embed_file(CACHE_DIR, model_name = 'BAAI/bge-m3'):\n",
    "    \n",
    "    \n",
    "    model_kwargs = {\n",
    "        # \"device\": \"mps\"\n",
    "        \"device\": \"cpu\"\n",
    "    }\n",
    "    encode_kwargs = {\"normalize_embeddings\": True}\n",
    "    embeddings = HuggingFaceEmbeddings(\n",
    "        model_name=model_name,\n",
    "        model_kwargs=model_kwargs,\n",
    "        encode_kwargs=encode_kwargs,\n",
    "        cache_folder = CACHE_DIR\n",
    "    )\n",
    "    \n",
    "    return embeddings"
   ]
  },
  {
   "cell_type": "code",
   "execution_count": 1062,
   "metadata": {},
   "outputs": [],
   "source": [
    "embedding = embed_file('pretrained/')"
   ]
  },
  {
   "cell_type": "code",
   "execution_count": 1063,
   "metadata": {},
   "outputs": [],
   "source": [
    "docs = [\n",
    "    Document(page_content = row['Title'], metadata = {'id' : row['articleID']}) for idx, row in article_info.iterrows()\n",
    "]"
   ]
  },
  {
   "cell_type": "code",
   "execution_count": 1064,
   "metadata": {},
   "outputs": [],
   "source": [
    "vectorstore = Chroma.from_documents(docs, embedding) # 시간걸림\n"
   ]
  },
  {
   "cell_type": "code",
   "execution_count": 1067,
   "metadata": {},
   "outputs": [
    {
     "name": "stderr",
     "output_type": "stream",
     "text": [
      "100%|██████████| 2879/2879 [08:12<00:00,  5.85it/s]\n"
     ]
    }
   ],
   "source": [
    "from tqdm import tqdm\n",
    "\n",
    "reco_dics = {id : {'docs' : [], 'scores' : []} for id in view_log['articleID'].unique()}\n",
    "\n",
    "for article_id in tqdm(view_log['articleID'].unique()):\n",
    "    title = article_info[article_info['articleID'] == article_id]['Title'].iloc[0]\n",
    "    for relevance_data in vectorstore.similarity_search_with_relevance_scores(title, k =5):\n",
    "        doc, score = relevance_data\n",
    "        if  article_id != doc.metadata['id']:\n",
    "            \n",
    "            reco_dics[article_id]['docs'].append(doc.metadata['id'])\n",
    "            reco_dics[article_id]['scores'].append(score)\n"
   ]
  },
  {
   "cell_type": "code",
   "execution_count": null,
   "metadata": {},
   "outputs": [],
   "source": [
    "person_reco_dics = {id : [] for id in view_log['userID'].unique()}\n",
    "\n",
    "for user_id in tqdm(view_log['userID'].unique()):\n",
    "    \n",
    "    view_articles = view_log[view_log['userID'] == user_id]['articleID'].values\n",
    "    \n",
    "    for article_id in view_articles:\n",
    "        person_reco_dics[user_id] += reco_dics[article_id]\n",
    "    \n"
   ]
  }
 ],
 "metadata": {
  "kernelspec": {
   "display_name": "twigfarm",
   "language": "python",
   "name": "python3"
  },
  "language_info": {
   "codemirror_mode": {
    "name": "ipython",
    "version": 3
   },
   "file_extension": ".py",
   "mimetype": "text/x-python",
   "name": "python",
   "nbconvert_exporter": "python",
   "pygments_lexer": "ipython3",
   "version": "3.8.18"
  }
 },
 "nbformat": 4,
 "nbformat_minor": 2
}
